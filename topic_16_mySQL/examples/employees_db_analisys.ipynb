{
 "cells": [
  {
   "cell_type": "markdown",
   "metadata": {
    "pycharm": {
     "name": "#%% md\n"
    }
   },
   "source": [
    "---\n",
    "Credentials:"
   ]
  },
  {
   "cell_type": "code",
   "execution_count": 1,
   "metadata": {
    "collapsed": false,
    "jupyter": {
     "outputs_hidden": false
    },
    "pycharm": {
     "name": "#%%\n"
    }
   },
   "outputs": [],
   "source": [
    "user='admin'\n",
    "password='password'\n",
    "host='127.0.0.1'\n",
    "port='3306'\n",
    "db_name='database'"
   ]
  },
  {
   "cell_type": "markdown",
   "metadata": {
    "pycharm": {
     "name": "#%% md\n"
    }
   },
   "source": [
    "---\n",
    "Imports"
   ]
  },
  {
   "cell_type": "code",
   "execution_count": 2,
   "metadata": {
    "collapsed": false,
    "jupyter": {
     "outputs_hidden": false
    },
    "pycharm": {
     "name": "#%%\n"
    }
   },
   "outputs": [],
   "source": [
    "from sqlalchemy import create_engine\n",
    "import pandas as pd\n",
    "import seaborn as sns\n",
    "import matplotlib.pyplot as plt"
   ]
  },
  {
   "cell_type": "markdown",
   "metadata": {},
   "source": [
    "---\n",
    "Create sqlalchemy engine"
   ]
  },
  {
   "cell_type": "code",
   "execution_count": 3,
   "metadata": {
    "collapsed": false,
    "jupyter": {
     "outputs_hidden": false
    },
    "pycharm": {
     "name": "#%%\n"
    }
   },
   "outputs": [],
   "source": [
    "engine = create_engine(f\"mysql+pymysql://{user}:{password}@{host}:{port}/{db_name}\")"
   ]
  },
  {
   "cell_type": "markdown",
   "metadata": {},
   "source": [
    "---\n",
    "# Задачи\n",
    "* Из таблиц `employees` и `salaries` с помощью `INNER JOIN` получить\n",
    "`emp_no`, `first_name`, `last_name`, `salary`, `from_date`, `to_date`. Использовать `AS`."
   ]
  },
  {
   "cell_type": "code",
   "execution_count": 4,
   "metadata": {
    "collapsed": false,
    "jupyter": {
     "outputs_hidden": false
    },
    "pycharm": {
     "name": "#%%\n"
    }
   },
   "outputs": [
    {
     "data": {
      "text/html": [
       "<div>\n",
       "<style scoped>\n",
       "    .dataframe tbody tr th:only-of-type {\n",
       "        vertical-align: middle;\n",
       "    }\n",
       "\n",
       "    .dataframe tbody tr th {\n",
       "        vertical-align: top;\n",
       "    }\n",
       "\n",
       "    .dataframe thead th {\n",
       "        text-align: right;\n",
       "    }\n",
       "</style>\n",
       "<table border=\"1\" class=\"dataframe\">\n",
       "  <thead>\n",
       "    <tr style=\"text-align: right;\">\n",
       "      <th></th>\n",
       "      <th>emp_no</th>\n",
       "      <th>first_name</th>\n",
       "      <th>last_name</th>\n",
       "      <th>salary</th>\n",
       "    </tr>\n",
       "  </thead>\n",
       "  <tbody>\n",
       "    <tr>\n",
       "      <th>0</th>\n",
       "      <td>10001</td>\n",
       "      <td>Georgi</td>\n",
       "      <td>Facello</td>\n",
       "      <td>60117</td>\n",
       "    </tr>\n",
       "    <tr>\n",
       "      <th>1</th>\n",
       "      <td>10001</td>\n",
       "      <td>Georgi</td>\n",
       "      <td>Facello</td>\n",
       "      <td>62102</td>\n",
       "    </tr>\n",
       "    <tr>\n",
       "      <th>2</th>\n",
       "      <td>10001</td>\n",
       "      <td>Georgi</td>\n",
       "      <td>Facello</td>\n",
       "      <td>66074</td>\n",
       "    </tr>\n",
       "    <tr>\n",
       "      <th>3</th>\n",
       "      <td>10001</td>\n",
       "      <td>Georgi</td>\n",
       "      <td>Facello</td>\n",
       "      <td>66596</td>\n",
       "    </tr>\n",
       "    <tr>\n",
       "      <th>4</th>\n",
       "      <td>10001</td>\n",
       "      <td>Georgi</td>\n",
       "      <td>Facello</td>\n",
       "      <td>66961</td>\n",
       "    </tr>\n",
       "    <tr>\n",
       "      <th>...</th>\n",
       "      <td>...</td>\n",
       "      <td>...</td>\n",
       "      <td>...</td>\n",
       "      <td>...</td>\n",
       "    </tr>\n",
       "    <tr>\n",
       "      <th>95</th>\n",
       "      <td>10009</td>\n",
       "      <td>Sumant</td>\n",
       "      <td>Peac</td>\n",
       "      <td>74612</td>\n",
       "    </tr>\n",
       "    <tr>\n",
       "      <th>96</th>\n",
       "      <td>10009</td>\n",
       "      <td>Sumant</td>\n",
       "      <td>Peac</td>\n",
       "      <td>76518</td>\n",
       "    </tr>\n",
       "    <tr>\n",
       "      <th>97</th>\n",
       "      <td>10009</td>\n",
       "      <td>Sumant</td>\n",
       "      <td>Peac</td>\n",
       "      <td>78335</td>\n",
       "    </tr>\n",
       "    <tr>\n",
       "      <th>98</th>\n",
       "      <td>10009</td>\n",
       "      <td>Sumant</td>\n",
       "      <td>Peac</td>\n",
       "      <td>80944</td>\n",
       "    </tr>\n",
       "    <tr>\n",
       "      <th>99</th>\n",
       "      <td>10009</td>\n",
       "      <td>Sumant</td>\n",
       "      <td>Peac</td>\n",
       "      <td>82507</td>\n",
       "    </tr>\n",
       "  </tbody>\n",
       "</table>\n",
       "<p>100 rows × 4 columns</p>\n",
       "</div>"
      ],
      "text/plain": [
       "    emp_no first_name last_name  salary\n",
       "0    10001     Georgi   Facello   60117\n",
       "1    10001     Georgi   Facello   62102\n",
       "2    10001     Georgi   Facello   66074\n",
       "3    10001     Georgi   Facello   66596\n",
       "4    10001     Georgi   Facello   66961\n",
       "..     ...        ...       ...     ...\n",
       "95   10009     Sumant      Peac   74612\n",
       "96   10009     Sumant      Peac   76518\n",
       "97   10009     Sumant      Peac   78335\n",
       "98   10009     Sumant      Peac   80944\n",
       "99   10009     Sumant      Peac   82507\n",
       "\n",
       "[100 rows x 4 columns]"
      ]
     },
     "execution_count": 4,
     "metadata": {},
     "output_type": "execute_result"
    }
   ],
   "source": [
    "limit = 100\n",
    "df = pd.read_sql_query(f\"SELECT emp.emp_no, emp.first_name, emp.last_name, s.salary \"\n",
    "                       f\"FROM employees.employees AS emp \"\n",
    "                       f\"INNER JOIN  employees.salaries AS s \"\n",
    "                       f\"ON emp.emp_no = s.emp_no \"\n",
    "                       f\"LIMIT {limit}\", engine)\n",
    "\n",
    "df.head(limit)"
   ]
  },
  {
   "cell_type": "markdown",
   "metadata": {},
   "source": [
    "Plot data"
   ]
  },
  {
   "cell_type": "code",
   "execution_count": 5,
   "metadata": {
    "collapsed": false,
    "jupyter": {
     "outputs_hidden": false
    },
    "pycharm": {
     "name": "#%%\n"
    }
   },
   "outputs": [
    {
     "data": {
      "image/png": "[encoded data removed]",
      "text/plain": [
       "<Figure size 432x288 with 1 Axes>"
      ]
     },
     "metadata": {},
     "output_type": "display_data"
    }
   ],
   "source": [
    "sns.set_theme(style=\"darkgrid\")\n",
    "my_plot = sns.lineplot(x=\"emp_no\", y=\"salary\", marker=\"o\", data=df)\n",
    "my_plot.set_xticklabels(labels=df[\"emp_no\"], rotation=90)\n",
    "\n",
    "plt.show()"
   ]
  },
  {
   "cell_type": "markdown",
   "metadata": {},
   "source": [
    "* Список людей, которые переходили из одного департамента в другой (то есть количество департаментов на одного сотрудника > 1).\n",
    "Вывести в результатах`emp_no`, `<количество департаментов, в котором побывал сотрудник>`.\n",
    "Отсортировано по количеству департаментов на сотрудника."
   ]
  },
  {
   "cell_type": "code",
   "execution_count": 6,
   "metadata": {
    "collapsed": false,
    "jupyter": {
     "outputs_hidden": false
    },
    "pycharm": {
     "name": "#%%\n"
    }
   },
   "outputs": [
    {
     "data": {
      "text/html": [
       "<div>\n",
       "<style scoped>\n",
       "    .dataframe tbody tr th:only-of-type {\n",
       "        vertical-align: middle;\n",
       "    }\n",
       "\n",
       "    .dataframe tbody tr th {\n",
       "        vertical-align: top;\n",
       "    }\n",
       "\n",
       "    .dataframe thead th {\n",
       "        text-align: right;\n",
       "    }\n",
       "</style>\n",
       "<table border=\"1\" class=\"dataframe\">\n",
       "  <thead>\n",
       "    <tr style=\"text-align: right;\">\n",
       "      <th></th>\n",
       "      <th>emp_no</th>\n",
       "      <th>emp_moves</th>\n",
       "    </tr>\n",
       "  </thead>\n",
       "  <tbody>\n",
       "    <tr>\n",
       "      <th>0</th>\n",
       "      <td>10010</td>\n",
       "      <td>2</td>\n",
       "    </tr>\n",
       "    <tr>\n",
       "      <th>1</th>\n",
       "      <td>10018</td>\n",
       "      <td>2</td>\n",
       "    </tr>\n",
       "    <tr>\n",
       "      <th>2</th>\n",
       "      <td>10029</td>\n",
       "      <td>2</td>\n",
       "    </tr>\n",
       "    <tr>\n",
       "      <th>3</th>\n",
       "      <td>10040</td>\n",
       "      <td>2</td>\n",
       "    </tr>\n",
       "    <tr>\n",
       "      <th>4</th>\n",
       "      <td>10050</td>\n",
       "      <td>2</td>\n",
       "    </tr>\n",
       "    <tr>\n",
       "      <th>...</th>\n",
       "      <td>...</td>\n",
       "      <td>...</td>\n",
       "    </tr>\n",
       "    <tr>\n",
       "      <th>95</th>\n",
       "      <td>10926</td>\n",
       "      <td>2</td>\n",
       "    </tr>\n",
       "    <tr>\n",
       "      <th>96</th>\n",
       "      <td>10937</td>\n",
       "      <td>2</td>\n",
       "    </tr>\n",
       "    <tr>\n",
       "      <th>97</th>\n",
       "      <td>10948</td>\n",
       "      <td>2</td>\n",
       "    </tr>\n",
       "    <tr>\n",
       "      <th>98</th>\n",
       "      <td>10956</td>\n",
       "      <td>2</td>\n",
       "    </tr>\n",
       "    <tr>\n",
       "      <th>99</th>\n",
       "      <td>10966</td>\n",
       "      <td>2</td>\n",
       "    </tr>\n",
       "  </tbody>\n",
       "</table>\n",
       "<p>100 rows × 2 columns</p>\n",
       "</div>"
      ],
      "text/plain": [
       "    emp_no  emp_moves\n",
       "0    10010          2\n",
       "1    10018          2\n",
       "2    10029          2\n",
       "3    10040          2\n",
       "4    10050          2\n",
       "..     ...        ...\n",
       "95   10926          2\n",
       "96   10937          2\n",
       "97   10948          2\n",
       "98   10956          2\n",
       "99   10966          2\n",
       "\n",
       "[100 rows x 2 columns]"
      ]
     },
     "execution_count": 6,
     "metadata": {},
     "output_type": "execute_result"
    }
   ],
   "source": [
    "df = pd.read_sql_query(f\"SELECT * \"\n",
    "                       f\"FROM (\"\n",
    "                       f\"SELECT emp_no, COUNT(*) AS emp_moves \"\n",
    "                       f\"FROM employees.dept_emp GROUP BY emp_no\"\n",
    "                       f\") AS emp_num \"\n",
    "                       f\"WHERE emp_num.emp_moves > 1 \"\n",
    "                       f\"ORDER BY emp_num.emp_moves DESC \"\n",
    "                       f\"LIMIT {limit}\",\n",
    "                       engine)\n",
    "\n",
    "df.head(limit)"
   ]
  },
  {
   "cell_type": "markdown",
   "metadata": {},
   "source": [
    "Получить все данные о сотрудниках из департамента `word` (например: `Development`)."
   ]
  },
  {
   "cell_type": "code",
   "execution_count": 7,
   "metadata": {
    "collapsed": false,
    "jupyter": {
     "outputs_hidden": false
    },
    "pycharm": {
     "name": "#%%\n"
    }
   },
   "outputs": [
    {
     "data": {
      "text/html": [
       "<div>\n",
       "<style scoped>\n",
       "    .dataframe tbody tr th:only-of-type {\n",
       "        vertical-align: middle;\n",
       "    }\n",
       "\n",
       "    .dataframe tbody tr th {\n",
       "        vertical-align: top;\n",
       "    }\n",
       "\n",
       "    .dataframe thead th {\n",
       "        text-align: right;\n",
       "    }\n",
       "</style>\n",
       "<table border=\"1\" class=\"dataframe\">\n",
       "  <thead>\n",
       "    <tr style=\"text-align: right;\">\n",
       "      <th></th>\n",
       "      <th>emp_no</th>\n",
       "      <th>birth_date</th>\n",
       "      <th>first_name</th>\n",
       "      <th>last_name</th>\n",
       "      <th>gender</th>\n",
       "      <th>hire_date</th>\n",
       "      <th>emp_no</th>\n",
       "      <th>dept_no</th>\n",
       "      <th>from_date</th>\n",
       "      <th>to_date</th>\n",
       "    </tr>\n",
       "  </thead>\n",
       "  <tbody>\n",
       "    <tr>\n",
       "      <th>0</th>\n",
       "      <td>10001</td>\n",
       "      <td>1953-09-02</td>\n",
       "      <td>Georgi</td>\n",
       "      <td>Facello</td>\n",
       "      <td>M</td>\n",
       "      <td>1986-06-26</td>\n",
       "      <td>10001</td>\n",
       "      <td>d005</td>\n",
       "      <td>1986-06-26</td>\n",
       "      <td>9999-01-01</td>\n",
       "    </tr>\n",
       "    <tr>\n",
       "      <th>1</th>\n",
       "      <td>10006</td>\n",
       "      <td>1953-04-20</td>\n",
       "      <td>Anneke</td>\n",
       "      <td>Preusig</td>\n",
       "      <td>F</td>\n",
       "      <td>1989-06-02</td>\n",
       "      <td>10006</td>\n",
       "      <td>d005</td>\n",
       "      <td>1990-08-05</td>\n",
       "      <td>9999-01-01</td>\n",
       "    </tr>\n",
       "    <tr>\n",
       "      <th>2</th>\n",
       "      <td>10008</td>\n",
       "      <td>1958-02-19</td>\n",
       "      <td>Saniya</td>\n",
       "      <td>Kalloufi</td>\n",
       "      <td>M</td>\n",
       "      <td>1994-09-15</td>\n",
       "      <td>10008</td>\n",
       "      <td>d005</td>\n",
       "      <td>1998-03-11</td>\n",
       "      <td>2000-07-31</td>\n",
       "    </tr>\n",
       "    <tr>\n",
       "      <th>3</th>\n",
       "      <td>10012</td>\n",
       "      <td>1960-10-04</td>\n",
       "      <td>Patricio</td>\n",
       "      <td>Bridgland</td>\n",
       "      <td>M</td>\n",
       "      <td>1992-12-18</td>\n",
       "      <td>10012</td>\n",
       "      <td>d005</td>\n",
       "      <td>1992-12-18</td>\n",
       "      <td>9999-01-01</td>\n",
       "    </tr>\n",
       "    <tr>\n",
       "      <th>4</th>\n",
       "      <td>10014</td>\n",
       "      <td>1956-02-12</td>\n",
       "      <td>Berni</td>\n",
       "      <td>Genin</td>\n",
       "      <td>M</td>\n",
       "      <td>1987-03-11</td>\n",
       "      <td>10014</td>\n",
       "      <td>d005</td>\n",
       "      <td>1993-12-29</td>\n",
       "      <td>9999-01-01</td>\n",
       "    </tr>\n",
       "    <tr>\n",
       "      <th>...</th>\n",
       "      <td>...</td>\n",
       "      <td>...</td>\n",
       "      <td>...</td>\n",
       "      <td>...</td>\n",
       "      <td>...</td>\n",
       "      <td>...</td>\n",
       "      <td>...</td>\n",
       "      <td>...</td>\n",
       "      <td>...</td>\n",
       "      <td>...</td>\n",
       "    </tr>\n",
       "    <tr>\n",
       "      <th>95</th>\n",
       "      <td>10342</td>\n",
       "      <td>1960-03-17</td>\n",
       "      <td>Stella</td>\n",
       "      <td>Hiroyama</td>\n",
       "      <td>F</td>\n",
       "      <td>1987-07-25</td>\n",
       "      <td>10342</td>\n",
       "      <td>d005</td>\n",
       "      <td>1987-07-25</td>\n",
       "      <td>9999-01-01</td>\n",
       "    </tr>\n",
       "    <tr>\n",
       "      <th>96</th>\n",
       "      <td>10345</td>\n",
       "      <td>1960-12-13</td>\n",
       "      <td>Arra</td>\n",
       "      <td>Ratnakar</td>\n",
       "      <td>M</td>\n",
       "      <td>1993-11-08</td>\n",
       "      <td>10345</td>\n",
       "      <td>d005</td>\n",
       "      <td>1993-11-08</td>\n",
       "      <td>9999-01-01</td>\n",
       "    </tr>\n",
       "    <tr>\n",
       "      <th>97</th>\n",
       "      <td>10352</td>\n",
       "      <td>1960-01-28</td>\n",
       "      <td>Erzsebet</td>\n",
       "      <td>Ohori</td>\n",
       "      <td>M</td>\n",
       "      <td>1996-01-21</td>\n",
       "      <td>10352</td>\n",
       "      <td>d005</td>\n",
       "      <td>1998-12-16</td>\n",
       "      <td>9999-01-01</td>\n",
       "    </tr>\n",
       "    <tr>\n",
       "      <th>98</th>\n",
       "      <td>10358</td>\n",
       "      <td>1953-04-08</td>\n",
       "      <td>Qunsheng</td>\n",
       "      <td>Tagansky</td>\n",
       "      <td>M</td>\n",
       "      <td>1991-02-19</td>\n",
       "      <td>10358</td>\n",
       "      <td>d005</td>\n",
       "      <td>1991-02-19</td>\n",
       "      <td>9999-01-01</td>\n",
       "    </tr>\n",
       "    <tr>\n",
       "      <th>99</th>\n",
       "      <td>10359</td>\n",
       "      <td>1960-04-18</td>\n",
       "      <td>Heekeun</td>\n",
       "      <td>Sambasivam</td>\n",
       "      <td>F</td>\n",
       "      <td>1991-05-09</td>\n",
       "      <td>10359</td>\n",
       "      <td>d005</td>\n",
       "      <td>1998-07-20</td>\n",
       "      <td>9999-01-01</td>\n",
       "    </tr>\n",
       "  </tbody>\n",
       "</table>\n",
       "<p>100 rows × 10 columns</p>\n",
       "</div>"
      ],
      "text/plain": [
       "    emp_no  birth_date first_name   last_name gender   hire_date  emp_no  \\\n",
       "0    10001  1953-09-02     Georgi     Facello      M  1986-06-26   10001   \n",
       "1    10006  1953-04-20     Anneke     Preusig      F  1989-06-02   10006   \n",
       "2    10008  1958-02-19     Saniya    Kalloufi      M  1994-09-15   10008   \n",
       "3    10012  1960-10-04   Patricio   Bridgland      M  1992-12-18   10012   \n",
       "4    10014  1956-02-12      Berni       Genin      M  1987-03-11   10014   \n",
       "..     ...         ...        ...         ...    ...         ...     ...   \n",
       "95   10342  1960-03-17     Stella    Hiroyama      F  1987-07-25   10342   \n",
       "96   10345  1960-12-13       Arra    Ratnakar      M  1993-11-08   10345   \n",
       "97   10352  1960-01-28   Erzsebet       Ohori      M  1996-01-21   10352   \n",
       "98   10358  1953-04-08   Qunsheng    Tagansky      M  1991-02-19   10358   \n",
       "99   10359  1960-04-18    Heekeun  Sambasivam      F  1991-05-09   10359   \n",
       "\n",
       "   dept_no   from_date     to_date  \n",
       "0     d005  1986-06-26  9999-01-01  \n",
       "1     d005  1990-08-05  9999-01-01  \n",
       "2     d005  1998-03-11  2000-07-31  \n",
       "3     d005  1992-12-18  9999-01-01  \n",
       "4     d005  1993-12-29  9999-01-01  \n",
       "..     ...         ...         ...  \n",
       "95    d005  1987-07-25  9999-01-01  \n",
       "96    d005  1993-11-08  9999-01-01  \n",
       "97    d005  1998-12-16  9999-01-01  \n",
       "98    d005  1991-02-19  9999-01-01  \n",
       "99    d005  1998-07-20  9999-01-01  \n",
       "\n",
       "[100 rows x 10 columns]"
      ]
     },
     "execution_count": 7,
     "metadata": {},
     "output_type": "execute_result"
    }
   ],
   "source": [
    "word = 'Development'\n",
    "\n",
    "df = pd.read_sql_query(f\"SELECT * FROM employees.employees as emp INNER JOIN \"\n",
    "                       f\"employees.dept_emp as dep \"\n",
    "                       f\"ON emp.emp_no = dep.emp_no \"\n",
    "                       f\"WHERE dept_no = \"\n",
    "                       f\"(SELECT dept_no \"\n",
    "                       f\"FROM employees.departments \"\n",
    "                       f\"WHERE dept_name = 'Development') \"\n",
    "                       f\"LIMIT {limit}\",\n",
    "                       engine)\n",
    "\n",
    "df.head(limit)"
   ]
  },
  {
   "cell_type": "markdown",
   "metadata": {},
   "source": [
    "Получить максимальную ЗП сотрудника (за все время) из департамента `word` (например: `Development`)."
   ]
  }
 ],
 "metadata": {
  "kernelspec": {
   "display_name": "PyCharm (leveluppythonlevel1_220920)",
   "language": "python",
   "name": "pycharm-7302251f"
  },
  "language_info": {
   "codemirror_mode": {
    "name": "ipython",
    "version": 3
   },
   "file_extension": ".py",
   "mimetype": "text/x-python",
   "name": "python",
   "nbconvert_exporter": "python",
   "pygments_lexer": "ipython3",
   "version": "3.8.5"
  }
 },
 "nbformat": 4,
 "nbformat_minor": 4
}
